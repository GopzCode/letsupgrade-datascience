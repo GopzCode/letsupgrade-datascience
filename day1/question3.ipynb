{
  "nbformat": 4,
  "nbformat_minor": 0,
  "metadata": {
    "colab": {
      "name": "question3.ipynb",
      "provenance": []
    },
    "kernelspec": {
      "name": "python3",
      "display_name": "Python 3"
    }
  },
  "cells": [
    {
      "cell_type": "code",
      "metadata": {
        "id": "hOR6Xr9Y5yXN",
        "outputId": "40c4d93f-ea09-4c87-fdb1-77bcf0e0d673",
        "colab": {
          "base_uri": "https://localhost:8080/"
        }
      },
      "source": [
        "cp=int(input())\n",
        "sp=int(input())\n",
        "if cp<sp:\n",
        "  print(\"profit\")\n",
        "elif cp>sp:\n",
        "  print(\"loss\")\n",
        "else:\n",
        "  print(\"Neither\")\n"
      ],
      "execution_count": 4,
      "outputs": [
        {
          "output_type": "stream",
          "text": [
            "30\n",
            "30\n",
            "Neither\n"
          ],
          "name": "stdout"
        }
      ]
    }
  ]
}